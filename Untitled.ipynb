{
 "cells": [
  {
   "cell_type": "code",
   "execution_count": 21,
   "id": "6de1b8a9-e595-4d7d-a314-3cf957f134cb",
   "metadata": {},
   "outputs": [],
   "source": [
    "import numpy as np\n",
    "from gymnasium.spaces import Box\n",
    "from gymnasium.spaces import MultiDiscrete"
   ]
  },
  {
   "cell_type": "code",
   "execution_count": 22,
   "id": "75ce71e4-5433-4f5f-8e90-bfaa8c4afe3c",
   "metadata": {},
   "outputs": [],
   "source": [
    "sudoku1 = np.array([\n",
    "    [0, 0, 0,   2, 0, 9,   4, 3, 1],\n",
    "    [8, 1, 0,   0, 6, 0,   0, 0, 0],\n",
    "    [9, 2, 0,   5, 4, 0,   8, 0, 0],\n",
    "    \n",
    "    [0, 6, 0,   9, 0, 2,   0, 4, 0],\n",
    "    [0, 0, 0,   4, 1, 0,   5, 0, 0],\n",
    "    [0, 0, 0,   0, 0, 0,   0, 0, 0],\n",
    "    \n",
    "    [0, 0, 0,   1, 0, 0,   0, 0, 8],\n",
    "    [2, 0, 0,   0, 0, 7,   0, 0, 0],\n",
    "    [0, 5, 0,   0, 2, 0,   9, 7, 0],\n",
    "])"
   ]
  },
  {
   "cell_type": "code",
   "execution_count": 24,
   "id": "1f90d5f8-bcb6-4cd0-8edf-79bfb082f27b",
   "metadata": {},
   "outputs": [
    {
     "data": {
      "text/plain": [
       "array([[5.9556713, 2.6726062, 5.2766657, 2.3074284, 2.0699413, 8.716197 ,\n",
       "        8.17097  , 7.7063165, 4.8990326],\n",
       "       [2.2510376, 8.6614485, 1.5973117, 5.748199 , 1.0840994, 7.701232 ,\n",
       "        7.998576 , 6.679577 , 6.2219687],\n",
       "       [5.9402194, 4.004844 , 1.3699875, 3.7440913, 1.5466644, 3.2687948,\n",
       "        6.944639 , 1.9244149, 5.9949093],\n",
       "       [6.956346 , 1.1755272, 7.3544154, 5.9467316, 1.3463991, 6.2580748,\n",
       "        5.4632435, 1.2109159, 5.377262 ],\n",
       "       [8.369404 , 1.1618028, 8.246335 , 7.562375 , 1.5707154, 2.5107765,\n",
       "        5.7088594, 7.631746 , 4.1224403],\n",
       "       [2.8237708, 4.921941 , 4.7365885, 4.3422527, 5.096575 , 7.574406 ,\n",
       "        8.769289 , 5.307447 , 7.8941283],\n",
       "       [2.398811 , 5.3097935, 3.9307501, 4.7333255, 5.745371 , 4.7062187,\n",
       "        8.5665   , 3.5121727, 8.21493  ],\n",
       "       [3.7452328, 8.088021 , 6.3220987, 3.744419 , 6.857046 , 5.9544854,\n",
       "        8.722814 , 6.2381015, 2.8556304],\n",
       "       [4.4978485, 8.772517 , 3.732206 , 5.4444737, 2.530364 , 7.13807  ,\n",
       "        2.214031 , 2.663072 , 6.0215144]], dtype=float32)"
      ]
     },
     "execution_count": 24,
     "metadata": {},
     "output_type": "execute_result"
    }
   ],
   "source": [
    "#observation_space = MultiDiscrete(np.arange(81).reshape(9, 9)+1, seed=0)\n",
    "observation_space = Box(low=1, high=9, shape=(9, 9))\n",
    "observation_space.sample()"
   ]
  },
  {
   "cell_type": "code",
   "execution_count": 8,
   "id": "0d9c12c5-7c41-4a0b-b711-a622bd6196b7",
   "metadata": {},
   "outputs": [],
   "source": [
    "class Sudoku(object):\n",
    "    def __init__(self, data):\n",
    "        self.data = data\n",
    "        assert self.check(), \"Incorrect value!\"\n",
    "\n",
    "    @property\n",
    "    def is_completed(self) -> bool:\n",
    "        return np.all(self.data > 0)\n",
    "\n",
    "    def check(self) -> bool:\n",
    "        return self.check_rows().all() * self.check_rows().all() * self.check_squares().all()\n",
    "    \n",
    "    def check_rows(self) -> np.ndarray:\n",
    "        valid_rows = np.ones(9, dtype=bool)\n",
    "        for i, row in enumerate(self.data):\n",
    "            if np.sum(row) == 0:\n",
    "                continue\n",
    "            valid_rows[i] = np.all(np.unique(row[row > 0], return_counts=True)[1] < 2)\n",
    "        return valid_rows\n",
    "    \n",
    "    def check_cols(self) -> np.ndarray:\n",
    "        return check_rows(self.data.T)\n",
    "    \n",
    "    def get_squares(self) -> np.ndarray:\n",
    "        for i in [0, 1, 2]:\n",
    "            for j in [0, 1, 2]:\n",
    "                yield self.data[3*i:3*(i+1), 3*j:3*(j+1)]\n",
    "\n",
    "    def check_squares(self) -> np.ndarray:\n",
    "        i = -1\n",
    "        valid_squares = np.ones(9, dtype=bool)\n",
    "        for square in self.get_squares():\n",
    "            i += 1\n",
    "            if np.sum(square) == 0:\n",
    "                continue\n",
    "            valid_squares[i] = np.all(np.unique(square[square > 0], return_counts=True)[1] < 2)\n",
    "        return valid_squares\n",
    "\n",
    "    def set(row_idx: int, col_idx: int, value: int) -> bool:\n",
    "        data = self.data.copy()\n",
    "        self.data[row_idx, col_idx] = value\n",
    "        is_valid = self.check()\n",
    "        if not is_valid:\n",
    "            self.data = data\n",
    "        return is_valid"
   ]
  },
  {
   "cell_type": "code",
   "execution_count": 9,
   "id": "a0a22105-9213-4b6d-ac05-fb9738c6fe4f",
   "metadata": {},
   "outputs": [
    {
     "data": {
      "text/plain": [
       "False"
      ]
     },
     "execution_count": 9,
     "metadata": {},
     "output_type": "execute_result"
    }
   ],
   "source": [
    "s1 = Sudoku(sudoku1)\n",
    "s1.is_completed"
   ]
  },
  {
   "cell_type": "code",
   "execution_count": 5,
   "id": "6a30e8bd-588e-47df-9bb8-6401d3292d99",
   "metadata": {},
   "outputs": [
    {
     "ename": "SyntaxError",
     "evalue": "invalid syntax (603547209.py, line 2)",
     "output_type": "error",
     "traceback": [
      "\u001b[1;36m  Cell \u001b[1;32mIn[5], line 2\u001b[1;36m\u001b[0m\n\u001b[1;33m    for k\u001b[0m\n\u001b[1;37m         ^\u001b[0m\n\u001b[1;31mSyntaxError\u001b[0m\u001b[1;31m:\u001b[0m invalid syntax\n"
     ]
    }
   ],
   "source": [
    "def solve(sudoku: Sudoku):\n",
    "    for k"
   ]
  }
 ],
 "metadata": {
  "kernelspec": {
   "display_name": "Python 3 (ipykernel)",
   "language": "python",
   "name": "python3"
  },
  "language_info": {
   "codemirror_mode": {
    "name": "ipython",
    "version": 3
   },
   "file_extension": ".py",
   "mimetype": "text/x-python",
   "name": "python",
   "nbconvert_exporter": "python",
   "pygments_lexer": "ipython3",
   "version": "3.11.7"
  }
 },
 "nbformat": 4,
 "nbformat_minor": 5
}
